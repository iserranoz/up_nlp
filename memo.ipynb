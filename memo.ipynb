{
 "cells": [
  {
   "cell_type": "code",
   "execution_count": null,
   "metadata": {},
   "outputs": [
    {
     "name": "stderr",
     "output_type": "stream",
     "text": [
      "[nltk_data] Downloading package punkt to\n",
      "[nltk_data]     C:\\Users\\halo4\\AppData\\Roaming\\nltk_data...\n",
      "[nltk_data]   Package punkt is already up-to-date!\n",
      "[nltk_data] Downloading package stopwords to\n",
      "[nltk_data]     C:\\Users\\halo4\\AppData\\Roaming\\nltk_data...\n",
      "[nltk_data]   Package stopwords is already up-to-date!\n",
      "[nltk_data] Downloading package punkt_tab to\n",
      "[nltk_data]     C:\\Users\\halo4\\AppData\\Roaming\\nltk_data...\n",
      "[nltk_data]   Package punkt_tab is already up-to-date!\n"
     ]
    }
   ],
   "source": [
    "import pandas as pd\n",
    "import numpy as np\n",
    "from utils import *\n",
    "import warnings\n",
    "import pickle\n",
    "warnings.filterwarnings('ignore')"
   ]
  },
  {
   "cell_type": "markdown",
   "metadata": {},
   "source": [
    "### Ejemplo modelo de regresión logística usando BoW"
   ]
  },
  {
   "cell_type": "code",
   "execution_count": 3,
   "metadata": {},
   "outputs": [],
   "source": [
    "from sklearn.linear_model import LogisticRegression\n",
    "from utils_test import *"
   ]
  },
  {
   "cell_type": "code",
   "execution_count": 5,
   "metadata": {},
   "outputs": [
    {
     "data": {
      "text/html": [
       "<div>\n",
       "<style scoped>\n",
       "    .dataframe tbody tr th:only-of-type {\n",
       "        vertical-align: middle;\n",
       "    }\n",
       "\n",
       "    .dataframe tbody tr th {\n",
       "        vertical-align: top;\n",
       "    }\n",
       "\n",
       "    .dataframe thead th {\n",
       "        text-align: right;\n",
       "    }\n",
       "</style>\n",
       "<table border=\"1\" class=\"dataframe\">\n",
       "  <thead>\n",
       "    <tr style=\"text-align: right;\">\n",
       "      <th></th>\n",
       "      <th>polarity</th>\n",
       "      <th>title</th>\n",
       "      <th>text</th>\n",
       "    </tr>\n",
       "  </thead>\n",
       "  <tbody>\n",
       "    <tr>\n",
       "      <th>0</th>\n",
       "      <td>2</td>\n",
       "      <td>Finally a Decent Metallica, Welcome Back Guys!!</td>\n",
       "      <td>Being a metal head from the early early 80's, ...</td>\n",
       "    </tr>\n",
       "    <tr>\n",
       "      <th>1</th>\n",
       "      <td>2</td>\n",
       "      <td>There's so much Van it's easy to get lost</td>\n",
       "      <td>To anybody not familiar with Van's non-radio r...</td>\n",
       "    </tr>\n",
       "    <tr>\n",
       "      <th>2</th>\n",
       "      <td>1</td>\n",
       "      <td>Does not teach the TM Technique!!!</td>\n",
       "      <td>For the past few months i have been doing medi...</td>\n",
       "    </tr>\n",
       "    <tr>\n",
       "      <th>3</th>\n",
       "      <td>1</td>\n",
       "      <td>Horrible</td>\n",
       "      <td>This is a truly terrible book. Even though it ...</td>\n",
       "    </tr>\n",
       "    <tr>\n",
       "      <th>4</th>\n",
       "      <td>2</td>\n",
       "      <td>Best pregnancy purchase yet!</td>\n",
       "      <td>I love this pillow and can't imagine pregnancy...</td>\n",
       "    </tr>\n",
       "    <tr>\n",
       "      <th>...</th>\n",
       "      <td>...</td>\n",
       "      <td>...</td>\n",
       "      <td>...</td>\n",
       "    </tr>\n",
       "    <tr>\n",
       "      <th>299995</th>\n",
       "      <td>1</td>\n",
       "      <td>OKAY, The Joke Is Over!</td>\n",
       "      <td>WOW! This collection sure SUCKS!As Simon Cowel...</td>\n",
       "    </tr>\n",
       "    <tr>\n",
       "      <th>299996</th>\n",
       "      <td>2</td>\n",
       "      <td>A rip-roaring adventure</td>\n",
       "      <td>I knew this was a good book before I read it. ...</td>\n",
       "    </tr>\n",
       "    <tr>\n",
       "      <th>299997</th>\n",
       "      <td>2</td>\n",
       "      <td>Romantic Melodies</td>\n",
       "      <td>I love all aspects of the beauty of the instru...</td>\n",
       "    </tr>\n",
       "    <tr>\n",
       "      <th>299998</th>\n",
       "      <td>1</td>\n",
       "      <td>Very Disappointed</td>\n",
       "      <td>I was very disappointed by these headphones. T...</td>\n",
       "    </tr>\n",
       "    <tr>\n",
       "      <th>299999</th>\n",
       "      <td>1</td>\n",
       "      <td>Not an MP3 player</td>\n",
       "      <td>This player DOES NOT PLAY MP3s/WMAs/etc. Do no...</td>\n",
       "    </tr>\n",
       "  </tbody>\n",
       "</table>\n",
       "<p>300000 rows × 3 columns</p>\n",
       "</div>"
      ],
      "text/plain": [
       "        polarity                                            title  \\\n",
       "0              2  Finally a Decent Metallica, Welcome Back Guys!!   \n",
       "1              2        There's so much Van it's easy to get lost   \n",
       "2              1               Does not teach the TM Technique!!!   \n",
       "3              1                                         Horrible   \n",
       "4              2                     Best pregnancy purchase yet!   \n",
       "...          ...                                              ...   \n",
       "299995         1                          OKAY, The Joke Is Over!   \n",
       "299996         2                          A rip-roaring adventure   \n",
       "299997         2                                Romantic Melodies   \n",
       "299998         1                                Very Disappointed   \n",
       "299999         1                                Not an MP3 player   \n",
       "\n",
       "                                                     text  \n",
       "0       Being a metal head from the early early 80's, ...  \n",
       "1       To anybody not familiar with Van's non-radio r...  \n",
       "2       For the past few months i have been doing medi...  \n",
       "3       This is a truly terrible book. Even though it ...  \n",
       "4       I love this pillow and can't imagine pregnancy...  \n",
       "...                                                   ...  \n",
       "299995  WOW! This collection sure SUCKS!As Simon Cowel...  \n",
       "299996  I knew this was a good book before I read it. ...  \n",
       "299997  I love all aspects of the beauty of the instru...  \n",
       "299998  I was very disappointed by these headphones. T...  \n",
       "299999  This player DOES NOT PLAY MP3s/WMAs/etc. Do no...  \n",
       "\n",
       "[300000 rows x 3 columns]"
      ]
     },
     "execution_count": 5,
     "metadata": {},
     "output_type": "execute_result"
    }
   ],
   "source": [
    "df_train = pd.read_parquet('data/data_train.parquet')\n",
    "df_test = pd.read_parquet('data/data_test.parquet')\n",
    "df_train"
   ]
  },
  {
   "cell_type": "code",
   "execution_count": 7,
   "metadata": {},
   "outputs": [],
   "source": [
    "## cambiamos la etiqueta a binario, 1 == positivo, 0== negativo \n",
    "##polarity - 1 for negative and 2 for positive\n",
    "df_train['target'] = np.where(df_train['polarity']==2,1,0)\n",
    "df_test['target'] = np.where(df_test['polarity']==2,1,0)"
   ]
  },
  {
   "cell_type": "code",
   "execution_count": 8,
   "metadata": {},
   "outputs": [
    {
     "data": {
      "text/html": [
       "<div>\n",
       "<style scoped>\n",
       "    .dataframe tbody tr th:only-of-type {\n",
       "        vertical-align: middle;\n",
       "    }\n",
       "\n",
       "    .dataframe tbody tr th {\n",
       "        vertical-align: top;\n",
       "    }\n",
       "\n",
       "    .dataframe thead th {\n",
       "        text-align: right;\n",
       "    }\n",
       "</style>\n",
       "<table border=\"1\" class=\"dataframe\">\n",
       "  <thead>\n",
       "    <tr style=\"text-align: right;\">\n",
       "      <th></th>\n",
       "      <th>polarity</th>\n",
       "      <th>title</th>\n",
       "      <th>text</th>\n",
       "      <th>target</th>\n",
       "      <th>normalized_text</th>\n",
       "      <th>tokens</th>\n",
       "      <th>tokens_no_stopwords</th>\n",
       "    </tr>\n",
       "  </thead>\n",
       "  <tbody>\n",
       "    <tr>\n",
       "      <th>0</th>\n",
       "      <td>2</td>\n",
       "      <td>Finally a Decent Metallica, Welcome Back Guys!!</td>\n",
       "      <td>Being a metal head from the early early 80's, ...</td>\n",
       "      <td>1</td>\n",
       "      <td>being a metal head from the early early s i ha...</td>\n",
       "      <td>[being, a, metal, head, from, the, early, earl...</td>\n",
       "      <td>[metal, head, early, early, enjoyed, metal, co...</td>\n",
       "    </tr>\n",
       "    <tr>\n",
       "      <th>1</th>\n",
       "      <td>2</td>\n",
       "      <td>There's so much Van it's easy to get lost</td>\n",
       "      <td>To anybody not familiar with Van's non-radio r...</td>\n",
       "      <td>1</td>\n",
       "      <td>to anybody not familiar with van s non radio r...</td>\n",
       "      <td>[to, anybody, not, familiar, with, van, s, non...</td>\n",
       "      <td>[anybody, familiar, van, non, radio, repertoir...</td>\n",
       "    </tr>\n",
       "    <tr>\n",
       "      <th>2</th>\n",
       "      <td>1</td>\n",
       "      <td>Does not teach the TM Technique!!!</td>\n",
       "      <td>For the past few months i have been doing medi...</td>\n",
       "      <td>0</td>\n",
       "      <td>for the past few months i have been doing medi...</td>\n",
       "      <td>[for, the, past, few, months, i, have, been, d...</td>\n",
       "      <td>[past, months, meditation, daily, since, readi...</td>\n",
       "    </tr>\n",
       "    <tr>\n",
       "      <th>3</th>\n",
       "      <td>1</td>\n",
       "      <td>Horrible</td>\n",
       "      <td>This is a truly terrible book. Even though it ...</td>\n",
       "      <td>0</td>\n",
       "      <td>this is a truly terrible book even though it i...</td>\n",
       "      <td>[this, is, a, truly, terrible, book, even, tho...</td>\n",
       "      <td>[truly, terrible, book, even, though, extremem...</td>\n",
       "    </tr>\n",
       "    <tr>\n",
       "      <th>4</th>\n",
       "      <td>2</td>\n",
       "      <td>Best pregnancy purchase yet!</td>\n",
       "      <td>I love this pillow and can't imagine pregnancy...</td>\n",
       "      <td>1</td>\n",
       "      <td>i love this pillow and can t imagine pregnancy...</td>\n",
       "      <td>[i, love, this, pillow, and, can, t, imagine, ...</td>\n",
       "      <td>[love, pillow, imagine, pregnancy, without, go...</td>\n",
       "    </tr>\n",
       "    <tr>\n",
       "      <th>...</th>\n",
       "      <td>...</td>\n",
       "      <td>...</td>\n",
       "      <td>...</td>\n",
       "      <td>...</td>\n",
       "      <td>...</td>\n",
       "      <td>...</td>\n",
       "      <td>...</td>\n",
       "    </tr>\n",
       "    <tr>\n",
       "      <th>299995</th>\n",
       "      <td>1</td>\n",
       "      <td>OKAY, The Joke Is Over!</td>\n",
       "      <td>WOW! This collection sure SUCKS!As Simon Cowel...</td>\n",
       "      <td>0</td>\n",
       "      <td>wow this collection sure sucks as simon cowell...</td>\n",
       "      <td>[wow, this, collection, sure, sucks, as, simon...</td>\n",
       "      <td>[wow, collection, sure, sucks, simon, cowell, ...</td>\n",
       "    </tr>\n",
       "    <tr>\n",
       "      <th>299996</th>\n",
       "      <td>2</td>\n",
       "      <td>A rip-roaring adventure</td>\n",
       "      <td>I knew this was a good book before I read it. ...</td>\n",
       "      <td>1</td>\n",
       "      <td>i knew this was a good book before i read it h...</td>\n",
       "      <td>[i, knew, this, was, a, good, book, before, i,...</td>\n",
       "      <td>[knew, good, book, read, husband, made, read, ...</td>\n",
       "    </tr>\n",
       "    <tr>\n",
       "      <th>299997</th>\n",
       "      <td>2</td>\n",
       "      <td>Romantic Melodies</td>\n",
       "      <td>I love all aspects of the beauty of the instru...</td>\n",
       "      <td>1</td>\n",
       "      <td>i love all aspects of the beauty of the instru...</td>\n",
       "      <td>[i, love, all, aspects, of, the, beauty, of, t...</td>\n",
       "      <td>[love, aspects, beauty, instrumentals, mannhei...</td>\n",
       "    </tr>\n",
       "    <tr>\n",
       "      <th>299998</th>\n",
       "      <td>1</td>\n",
       "      <td>Very Disappointed</td>\n",
       "      <td>I was very disappointed by these headphones. T...</td>\n",
       "      <td>0</td>\n",
       "      <td>i was very disappointed by these headphones th...</td>\n",
       "      <td>[i, was, very, disappointed, by, these, headph...</td>\n",
       "      <td>[disappointed, headphones, srs, mode, distorte...</td>\n",
       "    </tr>\n",
       "    <tr>\n",
       "      <th>299999</th>\n",
       "      <td>1</td>\n",
       "      <td>Not an MP3 player</td>\n",
       "      <td>This player DOES NOT PLAY MP3s/WMAs/etc. Do no...</td>\n",
       "      <td>0</td>\n",
       "      <td>this player does not play mp s wmas etc do not...</td>\n",
       "      <td>[this, player, does, not, play, mp, s, wmas, e...</td>\n",
       "      <td>[player, play, mp, wmas, etc, fooled, labeling...</td>\n",
       "    </tr>\n",
       "  </tbody>\n",
       "</table>\n",
       "<p>300000 rows × 7 columns</p>\n",
       "</div>"
      ],
      "text/plain": [
       "        polarity                                            title  \\\n",
       "0              2  Finally a Decent Metallica, Welcome Back Guys!!   \n",
       "1              2        There's so much Van it's easy to get lost   \n",
       "2              1               Does not teach the TM Technique!!!   \n",
       "3              1                                         Horrible   \n",
       "4              2                     Best pregnancy purchase yet!   \n",
       "...          ...                                              ...   \n",
       "299995         1                          OKAY, The Joke Is Over!   \n",
       "299996         2                          A rip-roaring adventure   \n",
       "299997         2                                Romantic Melodies   \n",
       "299998         1                                Very Disappointed   \n",
       "299999         1                                Not an MP3 player   \n",
       "\n",
       "                                                     text  target  \\\n",
       "0       Being a metal head from the early early 80's, ...       1   \n",
       "1       To anybody not familiar with Van's non-radio r...       1   \n",
       "2       For the past few months i have been doing medi...       0   \n",
       "3       This is a truly terrible book. Even though it ...       0   \n",
       "4       I love this pillow and can't imagine pregnancy...       1   \n",
       "...                                                   ...     ...   \n",
       "299995  WOW! This collection sure SUCKS!As Simon Cowel...       0   \n",
       "299996  I knew this was a good book before I read it. ...       1   \n",
       "299997  I love all aspects of the beauty of the instru...       1   \n",
       "299998  I was very disappointed by these headphones. T...       0   \n",
       "299999  This player DOES NOT PLAY MP3s/WMAs/etc. Do no...       0   \n",
       "\n",
       "                                          normalized_text  \\\n",
       "0       being a metal head from the early early s i ha...   \n",
       "1       to anybody not familiar with van s non radio r...   \n",
       "2       for the past few months i have been doing medi...   \n",
       "3       this is a truly terrible book even though it i...   \n",
       "4       i love this pillow and can t imagine pregnancy...   \n",
       "...                                                   ...   \n",
       "299995  wow this collection sure sucks as simon cowell...   \n",
       "299996  i knew this was a good book before i read it h...   \n",
       "299997  i love all aspects of the beauty of the instru...   \n",
       "299998  i was very disappointed by these headphones th...   \n",
       "299999  this player does not play mp s wmas etc do not...   \n",
       "\n",
       "                                                   tokens  \\\n",
       "0       [being, a, metal, head, from, the, early, earl...   \n",
       "1       [to, anybody, not, familiar, with, van, s, non...   \n",
       "2       [for, the, past, few, months, i, have, been, d...   \n",
       "3       [this, is, a, truly, terrible, book, even, tho...   \n",
       "4       [i, love, this, pillow, and, can, t, imagine, ...   \n",
       "...                                                   ...   \n",
       "299995  [wow, this, collection, sure, sucks, as, simon...   \n",
       "299996  [i, knew, this, was, a, good, book, before, i,...   \n",
       "299997  [i, love, all, aspects, of, the, beauty, of, t...   \n",
       "299998  [i, was, very, disappointed, by, these, headph...   \n",
       "299999  [this, player, does, not, play, mp, s, wmas, e...   \n",
       "\n",
       "                                      tokens_no_stopwords  \n",
       "0       [metal, head, early, early, enjoyed, metal, co...  \n",
       "1       [anybody, familiar, van, non, radio, repertoir...  \n",
       "2       [past, months, meditation, daily, since, readi...  \n",
       "3       [truly, terrible, book, even, though, extremem...  \n",
       "4       [love, pillow, imagine, pregnancy, without, go...  \n",
       "...                                                   ...  \n",
       "299995  [wow, collection, sure, sucks, simon, cowell, ...  \n",
       "299996  [knew, good, book, read, husband, made, read, ...  \n",
       "299997  [love, aspects, beauty, instrumentals, mannhei...  \n",
       "299998  [disappointed, headphones, srs, mode, distorte...  \n",
       "299999  [player, play, mp, wmas, etc, fooled, labeling...  \n",
       "\n",
       "[300000 rows x 7 columns]"
      ]
     },
     "execution_count": 8,
     "metadata": {},
     "output_type": "execute_result"
    }
   ],
   "source": [
    "#1 preprocesamos el text\n",
    "df_train['normalized_text'] = df_train['text'].apply(normalize_text)\n",
    "df_train['tokens'] = df_train['normalized_text'].apply(nltk.word_tokenize)\n",
    "df_train['tokens_no_stopwords'] = df_train['tokens'].apply(remove_stopwords)\n",
    "\n",
    "df_test['normalized_text'] = df_test['text'].apply(normalize_text)\n",
    "df_test['tokens'] = df_test['normalized_text'].apply(nltk.word_tokenize)\n",
    "df_test['tokens_no_stopwords'] = df_test['tokens'].apply(remove_stopwords)\n",
    "\n",
    "df_train\n"
   ]
  },
  {
   "cell_type": "code",
   "execution_count": 9,
   "metadata": {},
   "outputs": [],
   "source": [
    "from gensim.models import Word2Vec"
   ]
  },
  {
   "cell_type": "code",
   "execution_count": null,
   "metadata": {},
   "outputs": [],
   "source": [
    "w2v_model = Word2Vec(df_train['tokens_no_stopwords'], min_count=1, vector_size=100, window=5, sg=1)"
   ]
  },
  {
   "cell_type": "code",
   "execution_count": 28,
   "metadata": {},
   "outputs": [],
   "source": [
    "with open(\"w2v_model.pkl\", \"wb\") as f:\n",
    "    pickle.dump(w2v_model, f)"
   ]
  },
  {
   "cell_type": "code",
   "execution_count": 12,
   "metadata": {},
   "outputs": [],
   "source": [
    "embeddingsSize=w2v_model.vector_size\n",
    "def getVectors(dataset):\n",
    "  singleDataItemEmbedding=np.zeros(embeddingsSize)\n",
    "  vectors=[]\n",
    "  for dataItem in dataset:\n",
    "    wordCount=0\n",
    "    for word in dataItem:\n",
    "      if word in w2v_model.wv.index_to_key:\n",
    "        singleDataItemEmbedding=singleDataItemEmbedding+w2v_model.wv[word]\n",
    "        wordCount=wordCount+1\n",
    "\n",
    "    singleDataItemEmbedding=singleDataItemEmbedding/wordCount\n",
    "    vectors.append(singleDataItemEmbedding)\n",
    "  return vectors"
   ]
  },
  {
   "cell_type": "code",
   "execution_count": 13,
   "metadata": {},
   "outputs": [],
   "source": [
    "trainVectors=getVectors(df_train['tokens_no_stopwords'])\n",
    "testVectors=getVectors(df_test['tokens_no_stopwords'])"
   ]
  },
  {
   "cell_type": "markdown",
   "metadata": {},
   "source": [
    "## Guardar vectores"
   ]
  },
  {
   "cell_type": "markdown",
   "metadata": {},
   "source": [
    "### guardar en pickel"
   ]
  },
  {
   "cell_type": "code",
   "execution_count": 27,
   "metadata": {},
   "outputs": [],
   "source": [
    "import pickle\n",
    "\n",
    "\n",
    "with open(\"trainVectors.pkl\", \"wb\") as f:\n",
    "    pickle.dump(trainVectors, f)\n",
    "    \n",
    "with open(\"testVectors.pkl\", \"wb\") as f:\n",
    "    pickle.dump(testVectors, f)"
   ]
  },
  {
   "cell_type": "code",
   "execution_count": null,
   "metadata": {},
   "outputs": [],
   "source": [
    "with open(\"trainVectors.pkl\", \"rb\") as f:\n",
    "    trainVectors = pickle.load(f)\n",
    "    \n",
    "with open(\"testVectors.pkl\", \"rb\") as f:\n",
    "    testVectors = pickle.load(f)"
   ]
  },
  {
   "cell_type": "markdown",
   "metadata": {},
   "source": [
    "### Json"
   ]
  },
  {
   "cell_type": "code",
   "execution_count": null,
   "metadata": {},
   "outputs": [],
   "source": [
    "import json\n",
    "\n",
    "with open(\"trainVectors.json\", \"w\") as f:\n",
    "    json.dump(trainVectors, f)\n",
    "    \n",
    "with open(\"testVectors.json\", \"w\") as f:\n",
    "    json.dump(testVectors, f)"
   ]
  },
  {
   "cell_type": "code",
   "execution_count": null,
   "metadata": {},
   "outputs": [],
   "source": [
    "with open(\"trainVectors.json\", \"r\") as f:\n",
    "    trainVectors = json.load(f)\n",
    "    \n",
    "with open(\"testVectors.json\", \"r\") as f:\n",
    "    testVectors = json.load(f)"
   ]
  },
  {
   "cell_type": "markdown",
   "metadata": {},
   "source": [
    "### csv"
   ]
  },
  {
   "cell_type": "code",
   "execution_count": 29,
   "metadata": {},
   "outputs": [],
   "source": [
    "import csv\n",
    "\n",
    "with open(\"df_train.csv\", \"w\", newline='') as f:\n",
    "    writer = csv.writer(f)\n",
    "    writer.writerow(df_train)\n",
    "    \n",
    "with open(\"df_test.csv\", \"w\", newline='') as f:\n",
    "    writer = csv.writer(f)\n",
    "    writer.writerow(df_test)"
   ]
  },
  {
   "cell_type": "code",
   "execution_count": 30,
   "metadata": {},
   "outputs": [],
   "source": [
    "with open(\"df_train.csv\", \"r\") as f:\n",
    "    reader = csv.reader(f)\n",
    "    df_train = next(reader)\n",
    "    \n",
    "with open(\"df_test.csv\", \"r\") as f:\n",
    "    reader = csv.reader(f)\n",
    "    df_test = next(reader)"
   ]
  },
  {
   "cell_type": "markdown",
   "metadata": {},
   "source": [
    "## Continuamos"
   ]
  },
  {
   "cell_type": "code",
   "execution_count": null,
   "metadata": {},
   "outputs": [],
   "source": [
    "from sklearn.neural_network import MLPClassifier\n",
    "\n",
    "clfMLP = MLPClassifier(hidden_layer_sizes=(10, 10, 10))\n",
    "clfMLP.fit(trainVectors, df_train[\"target\"])\n",
    "\n",
    "testLabelsPredicted=list(clfMLP.predict(testVectors))"
   ]
  },
  {
   "cell_type": "code",
   "execution_count": 19,
   "metadata": {},
   "outputs": [],
   "source": [
    "X_train = trainVectors\n",
    "X_test = testVectors\n",
    "y_train = df_train['target']\n",
    "y_test = df_test['target']"
   ]
  },
  {
   "cell_type": "code",
   "execution_count": 20,
   "metadata": {},
   "outputs": [],
   "source": [
    "y_pred_proba = clfMLP.predict_proba(X_test)[:,1]"
   ]
  },
  {
   "cell_type": "code",
   "execution_count": 21,
   "metadata": {},
   "outputs": [
    {
     "data": {
      "image/png": "[encoded data removed]",
      "text/plain": [
       "<Figure size 800x600 with 1 Axes>"
      ]
     },
     "metadata": {},
     "output_type": "display_data"
    }
   ],
   "source": [
    "# ROC-AUC\n",
    "plot_roc_auc(y_pred_proba, y_test)"
   ]
  },
  {
   "cell_type": "code",
   "execution_count": 22,
   "metadata": {},
   "outputs": [
    {
     "data": {
      "image/png": "[encoded data removed]",
      "text/plain": [
       "<Figure size 800x600 with 1 Axes>"
      ]
     },
     "metadata": {},
     "output_type": "display_data"
    }
   ],
   "source": [
    "# PR curve\n",
    "plot_precision_recall_curve(y_pred_proba, y_test)"
   ]
  },
  {
   "cell_type": "code",
   "execution_count": 23,
   "metadata": {},
   "outputs": [
    {
     "data": {
      "image/png": "[encoded data removed]",
      "text/plain": [
       "<Figure size 600x500 with 1 Axes>"
      ]
     },
     "metadata": {},
     "output_type": "display_data"
    },
    {
     "name": "stdout",
     "output_type": "stream",
     "text": [
      "Classification Metrics:\n",
      "\n",
      "              precision    recall  f1-score   support\n",
      "\n",
      "    Negative       0.86      0.85      0.85     40000\n",
      "    Positive       0.85      0.86      0.86     40000\n",
      "\n",
      "    accuracy                           0.86     80000\n",
      "   macro avg       0.86      0.86      0.86     80000\n",
      "weighted avg       0.86      0.86      0.86     80000\n",
      "\n",
      "Accuracy: 0.86\n"
     ]
    }
   ],
   "source": [
    "# conf matriz\n",
    "plot_confusion_matrix_and_metrics(y_pred_proba, y_test, threshold=0.5)"
   ]
  }
 ],
 "metadata": {
  "kernelspec": {
   "display_name": ".venv",
   "language": "python",
   "name": "python3"
  },
  "language_info": {
   "codemirror_mode": {
    "name": "ipython",
    "version": 3
   },
   "file_extension": ".py",
   "mimetype": "text/x-python",
   "name": "python",
   "nbconvert_exporter": "python",
   "pygments_lexer": "ipython3",
   "version": "3.11.8"
  }
 },
 "nbformat": 4,
 "nbformat_minor": 2
}
